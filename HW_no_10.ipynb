{
  "nbformat": 4,
  "nbformat_minor": 0,
  "metadata": {
    "colab": {
      "name": "HW no. 10",
      "provenance": []
    },
    "kernelspec": {
      "name": "python3",
      "display_name": "Python 3"
    },
    "language_info": {
      "name": "python"
    }
  },
  "cells": [
    {
      "cell_type": "markdown",
      "metadata": {
        "id": "3csu_L3lrkEB"
      },
      "source": [
        "#####Upload a data set and:\n",
        "#####create 5 different charts to analyze the data\n",
        "#####get the statistics of the data set\n",
        "#####check for null or empty values\n",
        "#####create a heatmap of just your numerical data (please read this: https://towardsdatascience.com/data-types-in-statistics-347e152e8bee)\n",
        "#####Define \"Data Science\" and explain the data science process (https://www.youtube.com/watch?v=xC-c7E5PK0Y)\n",
        "#####What is the difference between lists and tuples\n",
        "#####Explain what the following major libraries do:\n",
        "#####scikit learn\n",
        "#####pandas\n",
        "#####tensorflow\n",
        "#####numpy\n",
        "#####tkinter"
      ]
    },
    {
      "cell_type": "code",
      "metadata": {
        "colab": {
          "base_uri": "https://localhost:8080/",
          "height": 202
        },
        "id": "IJ--cClzr8hI",
        "outputId": "8f38240a-ab57-48d3-9e51-cc8fab866b14"
      },
      "source": [
        "import matplotlib.pyplot as plt\n",
        "import pandas as pd\n",
        "import numpy as np\n",
        "import missingno as msno\n",
        "import seaborn as sns\n",
        "\n",
        "df = pd.read_csv ('https://raw.githubusercontent.com/manzf1/loan-schedule/main/loan%20schedule%20-%20Sheet1.csv')\n",
        "df.head()"
      ],
      "execution_count": 1,
      "outputs": [
        {
          "output_type": "execute_result",
          "data": {
            "text/html": [
              "<div>\n",
              "<style scoped>\n",
              "    .dataframe tbody tr th:only-of-type {\n",
              "        vertical-align: middle;\n",
              "    }\n",
              "\n",
              "    .dataframe tbody tr th {\n",
              "        vertical-align: top;\n",
              "    }\n",
              "\n",
              "    .dataframe thead th {\n",
              "        text-align: right;\n",
              "    }\n",
              "</style>\n",
              "<table border=\"1\" class=\"dataframe\">\n",
              "  <thead>\n",
              "    <tr style=\"text-align: right;\">\n",
              "      <th></th>\n",
              "      <th>PMT NO.</th>\n",
              "      <th>Payment date</th>\n",
              "      <th>Beginning balance</th>\n",
              "      <th>Scheduled Payment</th>\n",
              "      <th>Extra Payment</th>\n",
              "      <th>Total Payment</th>\n",
              "      <th>Principal</th>\n",
              "      <th>Interest</th>\n",
              "      <th>Ending Balance</th>\n",
              "      <th>Cumulative Interest</th>\n",
              "    </tr>\n",
              "  </thead>\n",
              "  <tbody>\n",
              "    <tr>\n",
              "      <th>0</th>\n",
              "      <td>1</td>\n",
              "      <td>1/17/17</td>\n",
              "      <td>$100,000.00</td>\n",
              "      <td>$506.69</td>\n",
              "      <td>$100.00</td>\n",
              "      <td>$606.69</td>\n",
              "      <td>$231.69</td>\n",
              "      <td>$375.00</td>\n",
              "      <td>$99,768.31</td>\n",
              "      <td>$375.00</td>\n",
              "    </tr>\n",
              "    <tr>\n",
              "      <th>1</th>\n",
              "      <td>2</td>\n",
              "      <td>2/17/17</td>\n",
              "      <td>$99,768.32</td>\n",
              "      <td>$506.69</td>\n",
              "      <td>$100.00</td>\n",
              "      <td>$606.69</td>\n",
              "      <td>$232.55</td>\n",
              "      <td>$374.13</td>\n",
              "      <td>$99,535.76</td>\n",
              "      <td>$749.13</td>\n",
              "    </tr>\n",
              "    <tr>\n",
              "      <th>2</th>\n",
              "      <td>3</td>\n",
              "      <td>3/17/17</td>\n",
              "      <td>$99,535.76</td>\n",
              "      <td>$506.69</td>\n",
              "      <td>$100.00</td>\n",
              "      <td>$606.69</td>\n",
              "      <td>$233.43</td>\n",
              "      <td>$373.26</td>\n",
              "      <td>$99,302.33</td>\n",
              "      <td>$1,122.39</td>\n",
              "    </tr>\n",
              "    <tr>\n",
              "      <th>3</th>\n",
              "      <td>4</td>\n",
              "      <td>4/17/17</td>\n",
              "      <td>$99,068.03</td>\n",
              "      <td>$506.69</td>\n",
              "      <td>$100.00</td>\n",
              "      <td>$606.69</td>\n",
              "      <td>$234.30</td>\n",
              "      <td>$372,38</td>\n",
              "      <td>$99,068.03</td>\n",
              "      <td>$1,494.77</td>\n",
              "    </tr>\n",
              "    <tr>\n",
              "      <th>4</th>\n",
              "      <td>5</td>\n",
              "      <td>5/17/17</td>\n",
              "      <td>$98,832.85</td>\n",
              "      <td>$506.69</td>\n",
              "      <td>$100.00</td>\n",
              "      <td>$606.69</td>\n",
              "      <td>$235.18</td>\n",
              "      <td>$371.51</td>\n",
              "      <td>$98,832.85</td>\n",
              "      <td>$1,866</td>\n",
              "    </tr>\n",
              "  </tbody>\n",
              "</table>\n",
              "</div>"
            ],
            "text/plain": [
              "   PMT NO. Payment date  ... Ending Balance Cumulative Interest\n",
              "0        1      1/17/17  ...     $99,768.31             $375.00\n",
              "1        2      2/17/17  ...     $99,535.76             $749.13\n",
              "2        3      3/17/17  ...     $99,302.33           $1,122.39\n",
              "3        4      4/17/17  ...     $99,068.03           $1,494.77\n",
              "4        5      5/17/17  ...     $98,832.85              $1,866\n",
              "\n",
              "[5 rows x 10 columns]"
            ]
          },
          "metadata": {},
          "execution_count": 1
        }
      ]
    },
    {
      "cell_type": "code",
      "metadata": {
        "colab": {
          "base_uri": "https://localhost:8080/"
        },
        "id": "LNUSuPgPscxd",
        "outputId": "fe965d43-7a5c-46cc-e2e3-5714b1c148b0"
      },
      "source": [
        "#check for nulls\n",
        "df.isnull().sum()"
      ],
      "execution_count": 2,
      "outputs": [
        {
          "output_type": "execute_result",
          "data": {
            "text/plain": [
              "PMT NO.                0\n",
              "Payment date           0\n",
              "Beginning balance      0\n",
              "Scheduled Payment      0\n",
              "Extra Payment          0\n",
              "Total Payment          0\n",
              "Principal              0\n",
              "Interest               0\n",
              "Ending Balance         0\n",
              "Cumulative Interest    0\n",
              "dtype: int64"
            ]
          },
          "metadata": {},
          "execution_count": 2
        }
      ]
    },
    {
      "cell_type": "code",
      "metadata": {
        "colab": {
          "base_uri": "https://localhost:8080/"
        },
        "id": "ERQfC0vpsno4",
        "outputId": "1aa5739c-7e7b-4b5b-a7a5-59dc97d6068b"
      },
      "source": [
        "#unique values\n",
        "df.nunique()"
      ],
      "execution_count": 3,
      "outputs": [
        {
          "output_type": "execute_result",
          "data": {
            "text/plain": [
              "PMT NO.                20\n",
              "Payment date           20\n",
              "Beginning balance      20\n",
              "Scheduled Payment       1\n",
              "Extra Payment           1\n",
              "Total Payment           1\n",
              "Principal              20\n",
              "Interest               20\n",
              "Ending Balance         20\n",
              "Cumulative Interest    20\n",
              "dtype: int64"
            ]
          },
          "metadata": {},
          "execution_count": 3
        }
      ]
    },
    {
      "cell_type": "code",
      "metadata": {
        "colab": {
          "base_uri": "https://localhost:8080/",
          "height": 294
        },
        "id": "bNehC4C6szL4",
        "outputId": "b8afd068-5f85-4e74-828b-fe1125ed3024"
      },
      "source": [
        "df.describe()"
      ],
      "execution_count": 5,
      "outputs": [
        {
          "output_type": "execute_result",
          "data": {
            "text/html": [
              "<div>\n",
              "<style scoped>\n",
              "    .dataframe tbody tr th:only-of-type {\n",
              "        vertical-align: middle;\n",
              "    }\n",
              "\n",
              "    .dataframe tbody tr th {\n",
              "        vertical-align: top;\n",
              "    }\n",
              "\n",
              "    .dataframe thead th {\n",
              "        text-align: right;\n",
              "    }\n",
              "</style>\n",
              "<table border=\"1\" class=\"dataframe\">\n",
              "  <thead>\n",
              "    <tr style=\"text-align: right;\">\n",
              "      <th></th>\n",
              "      <th>PMT NO.</th>\n",
              "    </tr>\n",
              "  </thead>\n",
              "  <tbody>\n",
              "    <tr>\n",
              "      <th>count</th>\n",
              "      <td>20.00000</td>\n",
              "    </tr>\n",
              "    <tr>\n",
              "      <th>mean</th>\n",
              "      <td>10.50000</td>\n",
              "    </tr>\n",
              "    <tr>\n",
              "      <th>std</th>\n",
              "      <td>5.91608</td>\n",
              "    </tr>\n",
              "    <tr>\n",
              "      <th>min</th>\n",
              "      <td>1.00000</td>\n",
              "    </tr>\n",
              "    <tr>\n",
              "      <th>25%</th>\n",
              "      <td>5.75000</td>\n",
              "    </tr>\n",
              "    <tr>\n",
              "      <th>50%</th>\n",
              "      <td>10.50000</td>\n",
              "    </tr>\n",
              "    <tr>\n",
              "      <th>75%</th>\n",
              "      <td>15.25000</td>\n",
              "    </tr>\n",
              "    <tr>\n",
              "      <th>max</th>\n",
              "      <td>20.00000</td>\n",
              "    </tr>\n",
              "  </tbody>\n",
              "</table>\n",
              "</div>"
            ],
            "text/plain": [
              "        PMT NO.\n",
              "count  20.00000\n",
              "mean   10.50000\n",
              "std     5.91608\n",
              "min     1.00000\n",
              "25%     5.75000\n",
              "50%    10.50000\n",
              "75%    15.25000\n",
              "max    20.00000"
            ]
          },
          "metadata": {},
          "execution_count": 5
        }
      ]
    },
    {
      "cell_type": "code",
      "metadata": {
        "colab": {
          "base_uri": "https://localhost:8080/",
          "height": 262
        },
        "id": "--G382e4trkV",
        "outputId": "11e89e0d-4f30-4ce0-c75e-222411beb98b"
      },
      "source": [
        "sns.catplot(data=df, kind='box', height = 4, aspect= 6)"
      ],
      "execution_count": 6,
      "outputs": [
        {
          "output_type": "execute_result",
          "data": {
            "text/plain": [
              "<seaborn.axisgrid.FacetGrid at 0x7fe5546b28d0>"
            ]
          },
          "metadata": {},
          "execution_count": 6
        },
        {
          "output_type": "display_data",
          "data": {
            "image/png": "[encoded data removed]",
            "text/plain": [
              "<Figure size 1728x288 with 1 Axes>"
            ]
          },
          "metadata": {
            "needs_background": "light"
          }
        }
      ]
    },
    {
      "cell_type": "code",
      "metadata": {
        "colab": {
          "base_uri": "https://localhost:8080/",
          "height": 307
        },
        "id": "JH_X3pJSuDCP",
        "outputId": "9df0ace5-b32b-48af-97f9-a02a95fae1b3"
      },
      "source": [
        "sns.catplot(x= 'PMT NO.', data= df, kind= 'count', height= 4, aspect= 5)"
      ],
      "execution_count": 8,
      "outputs": [
        {
          "output_type": "execute_result",
          "data": {
            "text/plain": [
              "<seaborn.axisgrid.FacetGrid at 0x7fe554529c50>"
            ]
          },
          "metadata": {},
          "execution_count": 8
        },
        {
          "output_type": "display_data",
          "data": {
            "image/png": "[encoded data removed]",
            "text/plain": [
              "<Figure size 1440x288 with 1 Axes>"
            ]
          },
          "metadata": {
            "needs_background": "light"
          }
        }
      ]
    },
    {
      "cell_type": "code",
      "metadata": {
        "colab": {
          "base_uri": "https://localhost:8080/",
          "height": 642
        },
        "id": "XwZMzPFjuiYG",
        "outputId": "6e804a63-e0de-4a9d-b55c-ee7306ae2882"
      },
      "source": [
        "df.hist(figsize=(15,10), bins=20, xlabelsize=10, ylabelsize=10)"
      ],
      "execution_count": 9,
      "outputs": [
        {
          "output_type": "execute_result",
          "data": {
            "text/plain": [
              "array([[<matplotlib.axes._subplots.AxesSubplot object at 0x7fe54bde1f90>]],\n",
              "      dtype=object)"
            ]
          },
          "metadata": {},
          "execution_count": 9
        },
        {
          "output_type": "display_data",
          "data": {
            "image/png": "[encoded data removed]",
            "text/plain": [
              "<Figure size 1080x720 with 1 Axes>"
            ]
          },
          "metadata": {
            "needs_background": "light"
          }
        }
      ]
    },
    {
      "cell_type": "code",
      "metadata": {
        "colab": {
          "base_uri": "https://localhost:8080/",
          "height": 282
        },
        "id": "cMKTaE2Oupwi",
        "outputId": "df2daa1f-867c-46c8-a798-17e879ba44bc"
      },
      "source": [
        "plt.barh(data=df, y='Interest',width=2)"
      ],
      "execution_count": 10,
      "outputs": [
        {
          "output_type": "execute_result",
          "data": {
            "text/plain": [
              "<BarContainer object of 20 artists>"
            ]
          },
          "metadata": {},
          "execution_count": 10
        },
        {
          "output_type": "display_data",
          "data": {
            "image/png": "[encoded data removed]",
            "text/plain": [
              "<Figure size 432x288 with 1 Axes>"
            ]
          },
          "metadata": {
            "needs_background": "light"
          }
        }
      ]
    },
    {
      "cell_type": "code",
      "metadata": {
        "colab": {
          "base_uri": "https://localhost:8080/",
          "height": 282
        },
        "id": "TuAEnRJRvm2z",
        "outputId": "94cceadc-2c17-4fdd-fac1-42a061cf270a"
      },
      "source": [
        "plt.plot('Beginning balance','Ending Balance','r+', data=df)"
      ],
      "execution_count": 11,
      "outputs": [
        {
          "output_type": "execute_result",
          "data": {
            "text/plain": [
              "[<matplotlib.lines.Line2D at 0x7fe54bc26f10>]"
            ]
          },
          "metadata": {},
          "execution_count": 11
        },
        {
          "output_type": "display_data",
          "data": {
            "image/png": "[encoded data removed]",
            "text/plain": [
              "<Figure size 432x288 with 1 Axes>"
            ]
          },
          "metadata": {
            "needs_background": "light"
          }
        }
      ]
    },
    {
      "cell_type": "code",
      "metadata": {
        "colab": {
          "base_uri": "https://localhost:8080/",
          "height": 202
        },
        "id": "UTOd5c3xv32v",
        "outputId": "709a1c05-0319-4842-eafb-9039a34cceeb"
      },
      "source": [
        "df2 = df.drop(['Principal','Interest'], axis = 1)\n",
        "df2.head()"
      ],
      "execution_count": 12,
      "outputs": [
        {
          "output_type": "execute_result",
          "data": {
            "text/html": [
              "<div>\n",
              "<style scoped>\n",
              "    .dataframe tbody tr th:only-of-type {\n",
              "        vertical-align: middle;\n",
              "    }\n",
              "\n",
              "    .dataframe tbody tr th {\n",
              "        vertical-align: top;\n",
              "    }\n",
              "\n",
              "    .dataframe thead th {\n",
              "        text-align: right;\n",
              "    }\n",
              "</style>\n",
              "<table border=\"1\" class=\"dataframe\">\n",
              "  <thead>\n",
              "    <tr style=\"text-align: right;\">\n",
              "      <th></th>\n",
              "      <th>PMT NO.</th>\n",
              "      <th>Payment date</th>\n",
              "      <th>Beginning balance</th>\n",
              "      <th>Scheduled Payment</th>\n",
              "      <th>Extra Payment</th>\n",
              "      <th>Total Payment</th>\n",
              "      <th>Ending Balance</th>\n",
              "      <th>Cumulative Interest</th>\n",
              "    </tr>\n",
              "  </thead>\n",
              "  <tbody>\n",
              "    <tr>\n",
              "      <th>0</th>\n",
              "      <td>1</td>\n",
              "      <td>1/17/17</td>\n",
              "      <td>$100,000.00</td>\n",
              "      <td>$506.69</td>\n",
              "      <td>$100.00</td>\n",
              "      <td>$606.69</td>\n",
              "      <td>$99,768.31</td>\n",
              "      <td>$375.00</td>\n",
              "    </tr>\n",
              "    <tr>\n",
              "      <th>1</th>\n",
              "      <td>2</td>\n",
              "      <td>2/17/17</td>\n",
              "      <td>$99,768.32</td>\n",
              "      <td>$506.69</td>\n",
              "      <td>$100.00</td>\n",
              "      <td>$606.69</td>\n",
              "      <td>$99,535.76</td>\n",
              "      <td>$749.13</td>\n",
              "    </tr>\n",
              "    <tr>\n",
              "      <th>2</th>\n",
              "      <td>3</td>\n",
              "      <td>3/17/17</td>\n",
              "      <td>$99,535.76</td>\n",
              "      <td>$506.69</td>\n",
              "      <td>$100.00</td>\n",
              "      <td>$606.69</td>\n",
              "      <td>$99,302.33</td>\n",
              "      <td>$1,122.39</td>\n",
              "    </tr>\n",
              "    <tr>\n",
              "      <th>3</th>\n",
              "      <td>4</td>\n",
              "      <td>4/17/17</td>\n",
              "      <td>$99,068.03</td>\n",
              "      <td>$506.69</td>\n",
              "      <td>$100.00</td>\n",
              "      <td>$606.69</td>\n",
              "      <td>$99,068.03</td>\n",
              "      <td>$1,494.77</td>\n",
              "    </tr>\n",
              "    <tr>\n",
              "      <th>4</th>\n",
              "      <td>5</td>\n",
              "      <td>5/17/17</td>\n",
              "      <td>$98,832.85</td>\n",
              "      <td>$506.69</td>\n",
              "      <td>$100.00</td>\n",
              "      <td>$606.69</td>\n",
              "      <td>$98,832.85</td>\n",
              "      <td>$1,866</td>\n",
              "    </tr>\n",
              "  </tbody>\n",
              "</table>\n",
              "</div>"
            ],
            "text/plain": [
              "   PMT NO. Payment date  ... Ending Balance Cumulative Interest\n",
              "0        1      1/17/17  ...     $99,768.31             $375.00\n",
              "1        2      2/17/17  ...     $99,535.76             $749.13\n",
              "2        3      3/17/17  ...     $99,302.33           $1,122.39\n",
              "3        4      4/17/17  ...     $99,068.03           $1,494.77\n",
              "4        5      5/17/17  ...     $98,832.85              $1,866\n",
              "\n",
              "[5 rows x 8 columns]"
            ]
          },
          "metadata": {},
          "execution_count": 12
        }
      ]
    },
    {
      "cell_type": "code",
      "metadata": {
        "colab": {
          "base_uri": "https://localhost:8080/",
          "height": 602
        },
        "id": "MSWgaq9UwyN9",
        "outputId": "0468755c-b3e1-4c27-a9d0-3ac4909620b0"
      },
      "source": [
        "corr = df2.corr()\n",
        "fig, ax = plt.subplots(figsize=(10,10))\n",
        "sns.heatmap(data=corr,square=True,annot=True,cbar=True,ax=ax)"
      ],
      "execution_count": 13,
      "outputs": [
        {
          "output_type": "execute_result",
          "data": {
            "text/plain": [
              "<matplotlib.axes._subplots.AxesSubplot at 0x7fe54bb47850>"
            ]
          },
          "metadata": {},
          "execution_count": 13
        },
        {
          "output_type": "display_data",
          "data": {
            "image/png": "[encoded data removed]",
            "text/plain": [
              "<Figure size 720x720 with 2 Axes>"
            ]
          },
          "metadata": {
            "needs_background": "light"
          }
        }
      ]
    },
    {
      "cell_type": "markdown",
      "metadata": {
        "id": "7TyGIzFixAMZ"
      },
      "source": [
        "##**Data Science**\n",
        "\n",
        "#####Data Science is the area of study which involves extracting insights from vast amounts of data by the use of various scientific methods, algorithms, and processes. It helps you to discover hidden patterns from the raw data. The term Data Science has emerged because of the evolution of mathematical statistics, data analysis, and big data. Data science collects data, stores/moves it, transform/explores it, aggregates/labels it, and learns/optimizes it."
      ]
    },
    {
      "cell_type": "markdown",
      "metadata": {
        "id": "IiyedFtdyvcF"
      },
      "source": [
        "##Difference between **Lists** and **Tuples**\n",
        "\n",
        "#####**List** is just like the arrays, declared in other languages. Lists need not be homogeneous always which makes it the most powerful tool in Python. In Python, the list is a type of container in Data Structures, which is used to store multiple data at the same time. Lists are a useful tool for preserving a sequence of data and further iterating over it. \n",
        "#####**Tuple** is also a sequence data type that can contain elements of different data types, but these are immutable in nature. In other words, a tuple is a collection of Python objects separated by commas. The tuple is faster than the list because of static in nature. "
      ]
    },
    {
      "cell_type": "markdown",
      "metadata": {
        "id": "UFoSr4dpzkn9"
      },
      "source": [
        "##**Libraries**\n",
        "\n",
        "#####**Scikit learn**: it contains unsupervised and supervised learning algorithms. It features support vector machine, random forests, and k-neighbours, and numerical and scientific libraries like NumPy and SciPy.\n",
        "#####**NumPy**: is a library consisting of unidimensional array objects and a collection of routines for pros=cessing those arrays, it can perform mathematical and logical operations on arrays.\n",
        "#####**Pandas**: is used to analize and manipulate data. It imports data from files like CSV, Excel, etc. It converts files, lists, etc into data frames, it works mainly with the tabular data.\n",
        "#####**Tensorflow**: it uses data flow graphs to build models, it does fast numerical computing.\n",
        "#####**Tkinter**: is the standard GUI library. It creates GUI applications."
      ]
    }
  ]
}